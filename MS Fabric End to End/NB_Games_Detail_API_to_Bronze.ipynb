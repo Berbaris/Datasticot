{
    "cells": [
        {
            "cell_type": "markdown",
            "source": [
                "# Ingest Games Detail API to Bronze\n",
                "This notebook loads the games detail data from the League of Legends API. Cf. detail on the API by Riot Games on: https://developer.riotgames.com/\n",
                "\n",
                "For each game that we have in both the historical and recurring Summoner Games folders, we load games detail. Games detail contain all possible info about a given game: players that were in, champions played, amount of damage dealed and received, ...\n",
                "\n",
                "This notebook requires the list of games for which we want to get data as input. We extract that list of games with the NB_Summoner_Games_API_to_Bronze notebook.\n",
                "\n",
                "_Note: the games detail API only works for recent games. I'm not sure if it's a fixed amount of games or a given point in time but for my summoner, I could not load data before April 2023 (writing this as of June 2024)._"
            ],
            "metadata": {
                "nteract": {
                    "transient": {
                        "deleting": false
                    }
                }
            },
            "id": "5d271939-2371-461e-9b64-73ea70f7a7b9"
        },
        {
            "cell_type": "code",
            "source": [
                "%run NB_Functions"
            ],
            "outputs": [],
            "execution_count": 7,
            "metadata": {
                "jupyter": {
                    "source_hidden": false,
                    "outputs_hidden": false
                },
                "nteract": {
                    "transient": {
                        "deleting": false
                    }
                },
                "microsoft": {
                    "language": "python",
                    "language_group": "synapse_pyspark"
                }
            },
            "id": "4e80e046-9d61-4bf3-93ed-1754abcfaa48"
        },
        {
            "cell_type": "markdown",
            "source": [
                "### 1. General configuration"
            ],
            "metadata": {
                "nteract": {
                    "transient": {
                        "deleting": false
                    }
                }
            },
            "id": "4260ee3a-f2f1-46b6-bde1-c8ec416438cb"
        },
        {
            "cell_type": "code",
            "source": [
                "# Import libraries\n",
                "from trident_token_library_wrapper import PyTridentTokenLibrary as tl\n",
                "import requests as r\n",
                "import json\n",
                "import os\n",
                "from datetime import datetime\n",
                "from notebookutils import mssparkutils"
            ],
            "outputs": [],
            "execution_count": 2,
            "metadata": {
                "microsoft": {
                    "language": "python",
                    "language_group": "synapse_pyspark"
                }
            },
            "id": "bb915a2c-4c29-41f0-8838-a8e2b736ffac"
        },
        {
            "cell_type": "code",
            "source": [
                "# Load secrets from Azure Key Vault\n",
                "key_vault_name = 'testasa-akv-dev-001'\n",
                "key_name = 'lol-api-key'\n",
                "access_token = mssparkutils.credentials.getToken(\"keyvault\")\n",
                "api_key = tl.get_secret_with_token(f\"https://{key_vault_name}.vault.azure.net/\", key_name, access_token)\n",
                "\n",
                "# Define API endpoint and parameters\n",
                "base_url = 'https://europe.api.riotgames.com/lol/'"
            ],
            "outputs": [],
            "execution_count": 3,
            "metadata": {
                "jupyter": {
                    "source_hidden": false,
                    "outputs_hidden": false
                },
                "nteract": {
                    "transient": {
                        "deleting": false
                    }
                },
                "microsoft": {
                    "language": "python",
                    "language_group": "synapse_pyspark"
                }
            },
            "id": "feaf5ca8-b780-4c9c-8e3b-58695e7e1ab4"
        },
        {
            "cell_type": "markdown",
            "source": [
                "### 2. Load games detail data"
            ],
            "metadata": {
                "nteract": {
                    "transient": {
                        "deleting": false
                    }
                },
                "microsoft": {
                    "language": "python",
                    "language_group": "synapse_pyspark"
                }
            },
            "id": "c41fa335-a86a-4b59-81ec-488eebc20b85"
        },
        {
            "cell_type": "code",
            "source": [
                "# Define the date from which we want to load games detail.\n",
                "LH_ID = mssparkutils.lakehouse.get(\"LKH_Bronze\").id\n",
                "WS_ID = mssparkutils.lakehouse.get(\"LKH_Bronze\").workspaceId\n",
                "try:\n",
                "    files = get_dir_content(f'abfss://{WS_ID}@onelake.dfs.fabric.microsoft.com/{LH_ID}/Files/raw_data/games_detail')\n",
                "\n",
                "    if files: # if we already loaded some games data, only get games detail for games starting from this point on\n",
                "        startDate = get_most_recent_date(files)\n",
                "\n",
                "    else: # if the games detail folder is empty\n",
                "        startDate = \"2024-06-14\" # date at which recent games were loaded. Sadly, most of historical games are too old for the games detail API to work...\n",
                "\n",
                "except Exception as e: # if the games detail folder does not yet exist\n",
                "    startDate = \"2024-06-14\"\n",
                "    print(\"Error\", e )\n",
                "\n",
                "print(startDate)"
            ],
            "outputs": [],
            "execution_count": 33,
            "metadata": {
                "jupyter": {
                    "source_hidden": false,
                    "outputs_hidden": false
                },
                "nteract": {
                    "transient": {
                        "deleting": false
                    }
                },
                "microsoft": {
                    "language": "python",
                    "language_group": "synapse_pyspark"
                }
            },
            "id": "c8abe666-26ca-4189-b3dc-e334a45e72f1"
        },
        {
            "cell_type": "code",
            "source": [
                "# Get the list of games we want to get detail from\n",
                "\n",
                "# Filter summoner_games files\n",
                "base_path = \"Files/raw_data/summoner_games/recurring/\"\n",
                "games_files = get_dir_content(base_path, extension=\".json\")\n",
                "\n",
                "print(\"Reading summoner games into a DataFrame\")\n",
                "\n",
                "df_games = spark.read.json(games_files)\n",
                "print(\"Found\", df_games.count(), \"games\")\n",
                "\n",
                "df_filtered_games = df_games.select(\"game\").filter(df_games.date >= startDate) # load only games from which we did not already get detail\n",
                "print(\"Filtered\", df_filtered_games.count(), \"games\")\n",
                "\n",
                "df_unique_games = df_filtered_games.dropDuplicates([\"game\"]) # as multiple summoners may have played in the same game, dropping duplicates is needed\n",
                "print(\"Kept\", df_unique_games.count(), \"unique games\")\n",
                "\n",
                "print(\"Finished reading summoner games into the Dataframe, loading\", df_unique_games.count(), \"new games.\")\n",
                "\n",
                "# Make a list out of the games to iterate on games\n",
                "games_list = df_unique_games.collect()"
            ],
            "outputs": [],
            "execution_count": 34,
            "metadata": {
                "jupyter": {
                    "source_hidden": false,
                    "outputs_hidden": false
                },
                "nteract": {
                    "transient": {
                        "deleting": false
                    }
                },
                "microsoft": {
                    "language": "python",
                    "language_group": "synapse_pyspark"
                },
                "collapsed": false
            },
            "id": "6d246dfb-91de-4b4b-988c-b6d237f335b0"
        },
        {
            "cell_type": "code",
            "source": [
                "# Make API calls to get games detail for each game\n",
                "\n",
                "current_date = datetime.now().strftime(\"%Y/%m/%d\")\n",
                "\n",
                "print(\"Starting API calls to get games detail\")\n",
                "for game_row in games_list:\n",
                "    print(f\"Getting data for game: {game_row[0]}\")\n",
                "    game = game_row[0]\n",
                "\n",
                "    # Make API call to fetch game detail\n",
                "    params = {'api_key': api_key}\n",
                "    response = r.get(f\"{base_url}match/v5/matches/{game}\", params=params)\n",
                "\n",
                "    if response.status_code == 200:\n",
                "        outputFilePath = f\"//lakehouse/default/Files/raw_data/games_detail/{current_date}/{game}.json\"\n",
                " \n",
                "        if not os.path.exists(os.path.dirname(outputFilePath)):    \n",
                "            print(\"creating folder: \" + os.path.dirname(outputFilePath))    \n",
                "            os.makedirs(os.path.dirname(outputFilePath), exist_ok=True)\n",
                " \n",
                "        with open(outputFilePath, 'wb') as f:\n",
                "            f.write(response.content)\n",
                "\n",
                "    else:\n",
                "        print(f\"Failed to fetch game detail for game {game}, https status code: {response.status_code}\")\n",
                "\n",
                "    time.sleep(1) # see API limits: https://developer.riotgames.com/docs/portal"
            ],
            "outputs": [],
            "execution_count": null,
            "metadata": {
                "jupyter": {
                    "source_hidden": false,
                    "outputs_hidden": false
                },
                "nteract": {
                    "transient": {
                        "deleting": false
                    }
                },
                "collapsed": false,
                "microsoft": {
                    "language": "python",
                    "language_group": "synapse_pyspark"
                }
            },
            "id": "d7805b0c-0b5d-4b75-937e-cd1425f31a0b"
        }
    ],
    "metadata": {
        "language_info": {
            "name": "python"
        },
        "kernel_info": {
            "name": "synapse_pyspark"
        },
        "microsoft": {
            "language": "python",
            "ms_spell_check": {
                "ms_spell_check_language": "en"
            },
            "language_group": "synapse_pyspark"
        },
        "widgets": {},
        "kernelspec": {
            "name": "synapse_pyspark",
            "language": "Python",
            "display_name": "Synapse PySpark"
        },
        "nteract": {
            "version": "nteract-front-end@1.0.0"
        },
        "synapse_widget": {
            "version": "0.1",
            "state": {}
        },
        "spark_compute": {
            "compute_id": "/trident/default"
        },
        "dependencies": {
            "lakehouse": {
                "default_lakehouse": "286263bd-7967-44b3-91d7-009c5f2d484d",
                "known_lakehouses": [
                    {
                        "id": "286263bd-7967-44b3-91d7-009c5f2d484d"
                    }
                ],
                "default_lakehouse_name": "LKH_Bronze",
                "default_lakehouse_workspace_id": "f7e91c17-bfad-4e28-ae2d-fe11a87d13d7"
            }
        }
    },
    "nbformat": 4,
    "nbformat_minor": 5
}
